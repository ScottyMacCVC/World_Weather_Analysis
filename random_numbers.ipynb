{
 "cells": [
  {
   "cell_type": "code",
   "execution_count": 19,
   "id": "37530135",
   "metadata": {},
   "outputs": [],
   "source": [
    "# Import the random module.\n",
    "import random"
   ]
  },
  {
   "cell_type": "code",
   "execution_count": 20,
   "id": "2fa906be",
   "metadata": {},
   "outputs": [
    {
     "data": {
      "text/plain": [
       "-63"
      ]
     },
     "execution_count": 20,
     "metadata": {},
     "output_type": "execute_result"
    }
   ],
   "source": [
    "random.randint(-90,90)"
   ]
  },
  {
   "cell_type": "code",
   "execution_count": 21,
   "id": "2ea800c0",
   "metadata": {},
   "outputs": [
    {
     "data": {
      "text/plain": [
       "0.2146288120938572"
      ]
     },
     "execution_count": 21,
     "metadata": {},
     "output_type": "execute_result"
    }
   ],
   "source": [
    "random.random()\n",
    "\n",
    "# \tReturns an integer between the interval, -90 and up to 89. Will not generate a floating-point decimal number."
   ]
  },
  {
   "cell_type": "code",
   "execution_count": 22,
   "id": "f912bda2",
   "metadata": {},
   "outputs": [
    {
     "data": {
      "text/plain": [
       "22.11176763155979"
      ]
     },
     "execution_count": 22,
     "metadata": {},
     "output_type": "execute_result"
    }
   ],
   "source": [
    "random_number = random.randint(-90,89) + random.random()\n",
    "random_number\n",
    "\n",
    "# \tReturns a floating-point decimal number between 0 and 1. Will not generate a whole integer."
   ]
  },
  {
   "cell_type": "code",
   "execution_count": 23,
   "id": "f90d0f1f",
   "metadata": {},
   "outputs": [
    {
     "data": {
      "text/plain": [
       "[-76.09330333969372,\n",
       " 69.39576703660377,\n",
       " 34.806003142857094,\n",
       " 81.12786920965837,\n",
       " -3.293980573540076,\n",
       " 0.7101903681908537,\n",
       " -1.3129677851981427,\n",
       " 46.105825937689765,\n",
       " 49.88516171380881,\n",
       " -56.08750151196357]"
      ]
     },
     "execution_count": 23,
     "metadata": {},
     "output_type": "execute_result"
    }
   ],
   "source": [
    "x = 1\n",
    "latitudes = []\n",
    "while x < 11:\n",
    "    random_lat = random.randint(-90, 89) + random.random()\n",
    "    latitudes.append(random_lat)\n",
    "    x += 1\n",
    "    \n",
    "latitudes"
   ]
  },
  {
   "cell_type": "code",
   "execution_count": 26,
   "id": "22aa5230",
   "metadata": {},
   "outputs": [
    {
     "data": {
      "text/plain": [
       "24"
      ]
     },
     "execution_count": 26,
     "metadata": {},
     "output_type": "execute_result"
    }
   ],
   "source": [
    "random.randrange(-90, 90, step=1)\n",
    "# \tReturns a whole integer between the interval, -90 and 90 where the step is the difference between each number in the sequence. Will not generate a floating-point decimal number."
   ]
  },
  {
   "cell_type": "code",
   "execution_count": 27,
   "id": "25f7783b",
   "metadata": {},
   "outputs": [
    {
     "data": {
      "text/plain": [
       "-48.12730692882554"
      ]
     },
     "execution_count": 27,
     "metadata": {},
     "output_type": "execute_result"
    }
   ],
   "source": [
    "random.uniform(-90, 90)\n",
    "\n",
    "# \tReturns a floating-point decimal number between the interval, -90 and 90. Will not generate a whole integer."
   ]
  },
  {
   "cell_type": "code",
   "execution_count": 28,
   "id": "22ea04b8",
   "metadata": {},
   "outputs": [],
   "source": [
    "# Import the NumPy module.\n",
    "import numpy as np"
   ]
  },
  {
   "cell_type": "code",
   "execution_count": 29,
   "id": "749919d9",
   "metadata": {},
   "outputs": [
    {
     "data": {
      "text/plain": [
       "-29.382417246946773"
      ]
     },
     "execution_count": 29,
     "metadata": {},
     "output_type": "execute_result"
    }
   ],
   "source": [
    "np.random.uniform(-90.000, 90.000)"
   ]
  },
  {
   "cell_type": "code",
   "execution_count": 30,
   "id": "d7f3a25a",
   "metadata": {},
   "outputs": [
    {
     "data": {
      "text/plain": [
       "array([ 32.76106721,  84.20176171, -57.59105613, -57.04516375,\n",
       "       -89.48023168,  -6.33820523, -19.05528444,   6.99382949,\n",
       "        31.78352771,  52.97229009,  42.35914932, -50.61071904,\n",
       "        45.26927032,  22.41167926, -85.63659667,  67.79434262,\n",
       "       -72.59660046,  55.57837725, -43.86977927,  45.89914523,\n",
       "        -8.66691061, -34.83857756,  39.03021755, -34.93475411,\n",
       "       -80.98077997,  54.88218484, -32.11272803, -63.20643697,\n",
       "        14.76606801,  37.9040663 , -33.60170555,  36.13645659,\n",
       "         4.30315851,  43.03347244,  84.36374765, -79.67022446,\n",
       "       -78.91834606, -67.86550299, -71.28274614,  36.13891369,\n",
       "       -21.87746012,  47.82930667,  78.70677961, -79.67510709,\n",
       "         4.78540929,   9.3176797 ,   6.42211948, -46.89703623,\n",
       "       -15.32358157,  39.65462361])"
      ]
     },
     "execution_count": 30,
     "metadata": {},
     "output_type": "execute_result"
    }
   ],
   "source": [
    "np.random.uniform(-90.000, 90.000, size=50)"
   ]
  },
  {
   "cell_type": "code",
   "execution_count": 31,
   "id": "6a013506",
   "metadata": {},
   "outputs": [],
   "source": [
    "# Import timeit.\n",
    "import timeit"
   ]
  },
  {
   "cell_type": "code",
   "execution_count": 32,
   "id": "60aa071a",
   "metadata": {},
   "outputs": [
    {
     "name": "stdout",
     "output_type": "stream",
     "text": [
      "15.3 µs ± 338 ns per loop (mean ± std. dev. of 7 runs, 100000 loops each)\n"
     ]
    }
   ],
   "source": [
    "%timeit np.random.uniform(-90.000, 90.000, size=1500)"
   ]
  },
  {
   "cell_type": "code",
   "execution_count": 33,
   "id": "9cf26635",
   "metadata": {},
   "outputs": [
    {
     "name": "stdout",
     "output_type": "stream",
     "text": [
      "1.97 ms ± 80 µs per loop (mean ± std. dev. of 7 runs, 1000 loops each)\n"
     ]
    }
   ],
   "source": [
    "def latitudes(size):\n",
    "    latitudes = []\n",
    "    x = 0\n",
    "    while x < (size):\n",
    "        random_lat = random.randint(-90, 90) + random.random()\n",
    "        latitudes.append(random_lat)\n",
    "        x += 1\n",
    "    return latitudes\n",
    "# Call the function with 1500.\n",
    "%timeit latitudes(1500)"
   ]
  },
  {
   "cell_type": "code",
   "execution_count": null,
   "id": "7673b846",
   "metadata": {},
   "outputs": [],
   "source": [
    "# Refactor the code for the while loop with the %timeit magic command and write a for loop that will generate the 1,500 latitudes."
   ]
  },
  {
   "cell_type": "code",
   "execution_count": 34,
   "id": "50324258",
   "metadata": {},
   "outputs": [],
   "source": []
  },
  {
   "cell_type": "code",
   "execution_count": null,
   "id": "66236768",
   "metadata": {},
   "outputs": [],
   "source": []
  },
  {
   "cell_type": "code",
   "execution_count": 36,
   "id": "9f527ff4",
   "metadata": {},
   "outputs": [],
   "source": []
  },
  {
   "cell_type": "code",
   "execution_count": null,
   "id": "04159b6a",
   "metadata": {},
   "outputs": [],
   "source": []
  }
 ],
 "metadata": {
  "kernelspec": {
   "display_name": "PythonData",
   "language": "python",
   "name": "pythondata"
  },
  "language_info": {
   "codemirror_mode": {
    "name": "ipython",
    "version": 3
   },
   "file_extension": ".py",
   "mimetype": "text/x-python",
   "name": "python",
   "nbconvert_exporter": "python",
   "pygments_lexer": "ipython3",
   "version": "3.7.11"
  }
 },
 "nbformat": 4,
 "nbformat_minor": 5
}
